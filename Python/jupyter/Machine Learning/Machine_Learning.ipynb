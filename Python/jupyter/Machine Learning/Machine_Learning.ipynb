{
  "cells": [
    {
      "cell_type": "code",
      "execution_count": null,
      "metadata": {
        "colab": {
          "base_uri": "https://localhost:8080/",
          "height": 339
        },
        "id": "r4eHMRPEfm_H",
        "outputId": "869eb475-3588-4022-8e2f-c1923fa2bbf0"
      },
      "outputs": [],
      "source": [
        "import numpy as np\n",
        "import pandas as pd\n",
        "import matplotlib.pyplot as plt\n",
        "from sklearn.preprocessing import StandardScaler\n",
        "from imblearn.over_sampling import RandomOverSampler"
      ]
    },
    {
      "cell_type": "code",
      "execution_count": null,
      "metadata": {
        "colab": {
          "base_uri": "https://localhost:8080/",
          "height": 423
        },
        "id": "F2VL-fasgubN",
        "outputId": "70a4c534-2a2e-4cf4-999d-dd9863c047e3"
      },
      "outputs": [],
      "source": [
        "cols=[\"fLength\",\"fWidth\",\"fSize\",\"fConc\",\"fConc1\",\"fAsym\",\"fM3Long\",\"fM3Trans\",\"fAlpha\",\"fDist\",\"class\"]\n",
        "df=pd.read_csv(\"telescope.csv\",names=cols)\n",
        "df[\"class\"]=(df[\"class\"]==\"g\").astype(int)"
      ]
    },
    {
      "cell_type": "code",
      "execution_count": null,
      "metadata": {
        "id": "ufykwAQ0hT4B"
      },
      "outputs": [],
      "source": [
        "for x in cols[0:-1]:\n",
        "  plt.hist(df[df[\"class\"]==1][x],color=\"blue\",label=\"gama\",alpha=0.8,density=True)\n",
        "  plt.hist(df[df[\"class\"]==0][x],color=\"red\",label=\"hadron\",alpha=0.8,density=True)\n",
        "  plt.title(x)\n",
        "  plt.ylabel(\"probability\")\n",
        "  plt.xlabel(x)\n",
        "  plt.legend()\n",
        "  plt.show()"
      ]
    },
    {
      "attachments": {},
      "cell_type": "markdown",
      "metadata": {
        "id": "O4bh5EXL2D5V"
      },
      "source": [
        "Spliting the dataset"
      ]
    },
    {
      "cell_type": "code",
      "execution_count": null,
      "metadata": {
        "id": "a52XIj2L6K-b"
      },
      "outputs": [],
      "source": [
        "train,valid,test=np.split(df.sample(frac=1),[int(0.6*len(df)),int(0.8*len(df))])"
      ]
    },
    {
      "cell_type": "code",
      "execution_count": null,
      "metadata": {
        "id": "qkD67t6F6tiw"
      },
      "outputs": [],
      "source": [
        "def scale_dataframe(dataframe):\n",
        "  x=dataframe[dataframe.columns[:-1]].values\n",
        "  y=dataframe[dataframe.columns[-1]].values\n",
        "  scaler=StandardScaler()\n",
        "  x=scaler.fit_transform(x)"
      ]
    }
  ],
  "metadata": {
    "colab": {
      "provenance": []
    },
    "kernelspec": {
      "display_name": "Python 3",
      "name": "python3"
    },
    "language_info": {
      "codemirror_mode": {
        "name": "ipython",
        "version": 3
      },
      "file_extension": ".py",
      "mimetype": "text/x-python",
      "name": "python",
      "nbconvert_exporter": "python",
      "pygments_lexer": "ipython3",
      "version": "3.9.9"
    }
  },
  "nbformat": 4,
  "nbformat_minor": 0
}
