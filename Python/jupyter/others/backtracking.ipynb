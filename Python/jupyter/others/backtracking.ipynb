{
 "cells": [
  {
   "cell_type": "markdown",
   "id": "30c95905",
   "metadata": {},
   "source": [
    "array sum target"
   ]
  },
  {
   "cell_type": "code",
   "execution_count": 3,
   "id": "f539a511",
   "metadata": {},
   "outputs": [
    {
     "name": "stdout",
     "output_type": "stream",
     "text": [
      "True\n"
     ]
    }
   ],
   "source": [
    "def rec(lis,target):\n",
    "    if target==0:\n",
    "        return True\n",
    "    if target<0:\n",
    "        print(\"NO\")\n",
    "        return False\n",
    "    for x in lis:\n",
    "        if rec(lis,target-x):\n",
    "            return True\n",
    "    return False\n",
    "\n",
    "li=[1,3,4,2]\n",
    "target=6\n",
    "print(rec(li,target))    "
   ]
  },
  {
   "cell_type": "raw",
   "id": "2c0db091",
   "metadata": {},
   "source": [
    "Actual permutations code"
   ]
  },
  {
   "cell_type": "code",
   "execution_count": 4,
   "id": "88559848",
   "metadata": {},
   "outputs": [
    {
     "name": "stdout",
     "output_type": "stream",
     "text": [
      "abc\n",
      "abc\n",
      "acb\n",
      "bac\n",
      "bca\n",
      "cba\n",
      "cab\n"
     ]
    }
   ],
   "source": [
    "def  per(li,left,right):\n",
    "    if left==right-1:\n",
    "        print(\"\".join(li))\n",
    "    for x in range(left,right):\n",
    "        li[x],li[left]=li[left],li[x]\n",
    "        per(li,left+1,right)\n",
    "        li[x],li[left]=li[left],li[x]   \n",
    "\n",
    "li=list(input())\n",
    "per(li,0,len(li))"
   ]
  },
  {
   "cell_type": "markdown",
   "id": "04f4128f",
   "metadata": {},
   "source": [
    "phone number"
   ]
  },
  {
   "cell_type": "code",
   "execution_count": 11,
   "id": "2fb053c8",
   "metadata": {},
   "outputs": [
    {
     "name": "stdout",
     "output_type": "stream",
     "text": [
      "['a', 'b', 'c']\n"
     ]
    }
   ],
   "source": [
    "def recur(digits):\n",
    "    li=[]\n",
    "    di={\n",
    "        \"2\":\"abc\",\n",
    "        \"3\":\"def\",\n",
    "        \"4\":\"ghi\",\n",
    "        \"5\":\"jkl\",\n",
    "        \"6\":\"mno\",\n",
    "        \"7\":\"pqrs\",\n",
    "        \"8\":\"tuv\",\n",
    "        \"9\":\"wxyz\"\n",
    "    }\n",
    "    size=len(digits)\n",
    "    def recall(i,st):\n",
    "        if i==len(digits):\n",
    "            li.append(st)\n",
    "            return\n",
    "        for x in di[digits[i]]:\n",
    "            recall(i+1,st+x)\n",
    "    recall(0,\"\")\n",
    "    print(li)\n",
    "recur(\"2\")"
   ]
  },
  {
   "cell_type": "markdown",
   "id": "72db77d2",
   "metadata": {},
   "source": [
    "> subarray"
   ]
  },
  {
   "cell_type": "code",
   "execution_count": null,
   "id": "180ff236",
   "metadata": {},
   "outputs": [],
   "source": [
    "def subarray(li,n,le):\n",
    "    if le==n:\n",
    "        print(li)\n",
    "    for x in range(le-1):\n",
    "        subarray(li,n+1,le)\n",
    "        subarray(li[:x]+li[x+1:],n+1,le)\n",
    "        \n",
    "subarray([1,2,3],0,3)"
   ]
  },
  {
   "cell_type": "markdown",
   "id": "a795e34c",
   "metadata": {},
   "source": [
    "nesting list print"
   ]
  },
  {
   "cell_type": "code",
   "execution_count": 1,
   "id": "c8e9c73f",
   "metadata": {},
   "outputs": [
    {
     "name": "stdout",
     "output_type": "stream",
     "text": [
      "34\n",
      "3\n",
      "42\n",
      "42\n",
      "42\n",
      "424\n",
      "2\n",
      "4\n",
      "32\n",
      "53\n",
      "3\n",
      "4\n",
      "33\n"
     ]
    }
   ],
   "source": [
    "def rec(li):\n",
    "    for x in li:\n",
    "        if type(x)==list:\n",
    "            rec(x)\n",
    "        else:\n",
    "            print(x)\n",
    "\n",
    "li=[34,3,42,42,[42,424,2,4],[32,53,3,4,33]]\n",
    "rec(li)"
   ]
  },
  {
   "cell_type": "markdown",
   "id": "432b1e39",
   "metadata": {},
   "source": [
    "picking the elements to check the it is equal to given number"
   ]
  },
  {
   "cell_type": "code",
   "execution_count": 33,
   "id": "edead73a",
   "metadata": {},
   "outputs": [
    {
     "data": {
      "text/plain": [
       "False"
      ]
     },
     "execution_count": 33,
     "metadata": {},
     "output_type": "execute_result"
    }
   ],
   "source": [
    "def rec(li,k):\n",
    "    if k==0:\n",
    "        return True\n",
    "    if k<0:\n",
    "        return False\n",
    "    for x in li:\n",
    "        if rec(li,k-x):\n",
    "            return True\n",
    "    return False\n",
    "\n",
    "li=[5,7,9,11]\n",
    "k=10\n",
    "rec(li,8)\n",
    "    \n",
    "        "
   ]
  },
  {
   "cell_type": "markdown",
   "id": "f831ce39",
   "metadata": {},
   "source": [
    "multiplication of string"
   ]
  },
  {
   "cell_type": "code",
   "execution_count": 38,
   "id": "7c1b0f1a",
   "metadata": {},
   "outputs": [
    {
     "name": "stdout",
     "output_type": "stream",
     "text": [
      " +   +  \n",
      " +   + c\n",
      " +   + o\n",
      " +   + u\n",
      " +   + r\n",
      " +   + s\n",
      " +   + e\n",
      " +   +  \n",
      " +   +  \n",
      " +   + b\n",
      " +   + r\n",
      " +   + a\n",
      " +   + n\n",
      " +   + c\n",
      " +   + h\n",
      " +   +  \n",
      " + i +  \n",
      " + i + c\n",
      " + i + o\n",
      " + i + u\n",
      " + i + r\n",
      " + i + s\n",
      " + i + e\n",
      " + i +  \n",
      " + i +  \n",
      " + i + b\n",
      " + i + r\n",
      " + i + a\n",
      " + i + n\n",
      " + i + c\n",
      " + i + h\n",
      " + i +  \n",
      " + d +  \n",
      " + d + c\n",
      " + d + o\n",
      " + d + u\n",
      " + d + r\n",
      " + d + s\n",
      " + d + e\n",
      " + d +  \n",
      " + d +  \n",
      " + d + b\n",
      " + d + r\n",
      " + d + a\n",
      " + d + n\n",
      " + d + c\n",
      " + d + h\n",
      " + d +  \n",
      " +   +  \n",
      " +   + c\n",
      " +   + o\n",
      " +   + u\n",
      " +   + r\n",
      " +   + s\n",
      " +   + e\n",
      " +   +  \n",
      " +   +  \n",
      " +   + b\n",
      " +   + r\n",
      " +   + a\n",
      " +   + n\n",
      " +   + c\n",
      " +   + h\n",
      " +   +  \n",
      " +   +  \n",
      " +   + c\n",
      " +   + o\n",
      " +   + u\n",
      " +   + r\n",
      " +   + s\n",
      " +   + e\n",
      " +   +  \n",
      " +   +  \n",
      " +   + b\n",
      " +   + r\n",
      " +   + a\n",
      " +   + n\n",
      " +   + c\n",
      " +   + h\n",
      " +   +  \n",
      " + n +  \n",
      " + n + c\n",
      " + n + o\n",
      " + n + u\n",
      " + n + r\n",
      " + n + s\n",
      " + n + e\n",
      " + n +  \n",
      " + n +  \n",
      " + n + b\n",
      " + n + r\n",
      " + n + a\n",
      " + n + n\n",
      " + n + c\n",
      " + n + h\n",
      " + n +  \n",
      " + a +  \n",
      " + a + c\n",
      " + a + o\n",
      " + a + u\n",
      " + a + r\n",
      " + a + s\n",
      " + a + e\n",
      " + a +  \n",
      " + a +  \n",
      " + a + b\n",
      " + a + r\n",
      " + a + a\n",
      " + a + n\n",
      " + a + c\n",
      " + a + h\n",
      " + a +  \n",
      " + m +  \n",
      " + m + c\n",
      " + m + o\n",
      " + m + u\n",
      " + m + r\n",
      " + m + s\n",
      " + m + e\n",
      " + m +  \n",
      " + m +  \n",
      " + m + b\n",
      " + m + r\n",
      " + m + a\n",
      " + m + n\n",
      " + m + c\n",
      " + m + h\n",
      " + m +  \n",
      " + e +  \n",
      " + e + c\n",
      " + e + o\n",
      " + e + u\n",
      " + e + r\n",
      " + e + s\n",
      " + e + e\n",
      " + e +  \n",
      " + e +  \n",
      " + e + b\n",
      " + e + r\n",
      " + e + a\n",
      " + e + n\n",
      " + e + c\n",
      " + e + h\n",
      " + e +  \n",
      " +   +  \n",
      " +   + c\n",
      " +   + o\n",
      " +   + u\n",
      " +   + r\n",
      " +   + s\n",
      " +   + e\n",
      " +   +  \n",
      " +   +  \n",
      " +   + b\n",
      " +   + r\n",
      " +   + a\n",
      " +   + n\n",
      " +   + c\n",
      " +   + h\n",
      " +   +  \n"
     ]
    }
   ],
   "source": [
    "def multiply(li,count,st):\n",
    "    if(count==2):\n",
    "        print(st)\n",
    "        return\n",
    "    for x in li[count]:\n",
    "        for i in x:\n",
    "            multiply(li,count+1,st+\" + \"+i)\n",
    "li=[\"abc\",\"xy\"]\n",
    "dbms=[[' id ',' name '],[' course ',' branch ']]\n",
    "multiply(dbms,0,\"\") "
   ]
  },
  {
   "cell_type": "markdown",
   "id": "bf5e3595",
   "metadata": {},
   "source": [
    "print binary"
   ]
  },
  {
   "cell_type": "code",
   "execution_count": 3,
   "id": "648840a1",
   "metadata": {},
   "outputs": [
    {
     "name": "stdout",
     "output_type": "stream",
     "text": [
      "00000\n",
      "00001\n",
      "00010\n",
      "00011\n",
      "00100\n",
      "00101\n",
      "00110\n",
      "00111\n",
      "01000\n",
      "01001\n",
      "01010\n",
      "01011\n",
      "01100\n",
      "01101\n",
      "01110\n",
      "01111\n",
      "10000\n",
      "10001\n",
      "10010\n",
      "10011\n",
      "10100\n",
      "10101\n",
      "10110\n",
      "10111\n",
      "11000\n",
      "11001\n",
      "11010\n",
      "11011\n",
      "11100\n",
      "11101\n",
      "11110\n",
      "11111\n"
     ]
    }
   ],
   "source": [
    "def bin(st,count):\n",
    "    if(count==0):\n",
    "        print(st)\n",
    "        return\n",
    "    bin(st+\"0\",count-1)\n",
    "    bin(st+\"1\",count-1)\n",
    "bin(\"\",5)"
   ]
  },
  {
   "cell_type": "markdown",
   "id": "4c43e558",
   "metadata": {},
   "source": [
    "Max Sum Contiguous Subarray"
   ]
  },
  {
   "cell_type": "code",
   "execution_count": null,
   "id": "64658c3e",
   "metadata": {},
   "outputs": [],
   "source": [
    "int max=INT_MIN\n",
    "int main()\n",
    "{}"
   ]
  }
 ],
 "metadata": {
  "kernelspec": {
   "display_name": "Python 3 (ipykernel)",
   "language": "python",
   "name": "python3"
  },
  "language_info": {
   "codemirror_mode": {
    "name": "ipython",
    "version": 3
   },
   "file_extension": ".py",
   "mimetype": "text/x-python",
   "name": "python",
   "nbconvert_exporter": "python",
   "pygments_lexer": "ipython3",
   "version": "3.9.9"
  }
 },
 "nbformat": 4,
 "nbformat_minor": 5
}
