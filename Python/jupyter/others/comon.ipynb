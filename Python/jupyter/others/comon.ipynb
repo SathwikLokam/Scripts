{
 "cells": [
  {
   "cell_type": "code",
   "execution_count": 45,
   "id": "be5cc9e0",
   "metadata": {},
   "outputs": [
    {
     "name": "stdout",
     "output_type": "stream",
     "text": [
      "True\n",
      "True\n",
      "True\n",
      "True\n",
      "True\n",
      "None\n"
     ]
    }
   ],
   "source": [
    "st=\"sathwik coder\"\n",
    "def rec(i,j,st,fullstr):\n",
    "    print(True)\n",
    "    if i==len(st)-1:\n",
    "        return True\n",
    "    if fullstr[j]==st[i]:\n",
    "        i+=1\n",
    "        j+=1\n",
    "        rec(i,j,st,fullstr)\n",
    "    else:\n",
    "        i=0\n",
    "        j+=1\n",
    "        if j==len(fullstr):\n",
    "            return False\n",
    "        rec(i,j,st,fullstr)\n",
    "        \n",
    "print(rec(0,0,\"thw\",\"sathwik\"))\n",
    "        "
   ]
  },
  {
   "cell_type": "markdown",
   "id": "09bd9faf",
   "metadata": {},
   "source": [
    "job scheduling"
   ]
  },
  {
   "cell_type": "code",
   "execution_count": 30,
   "id": "438a9f3c",
   "metadata": {},
   "outputs": [
    {
     "name": "stdout",
     "output_type": "stream",
     "text": [
      "-> [300, 200, 190, 180, 120] -> [3, 0, 2, 1, 4]\n",
      "php \t\t--->\t 2\n",
      "python \t\t--->\t 7\n",
      "c++ \t\t--->\t 3\n",
      "java \t\t--->\t 1\n",
      "javascript \t\t--->\t 4\n"
     ]
    }
   ],
   "source": [
    "def jobsh(jobs,deli,pro):\n",
    "    lenLs=len(pro)\n",
    "    rn=list(range(lenLs))\n",
    "    maxLs=deli[0]\n",
    "    for x in range(lenLs-1):\n",
    "        for y in range(lenLs-1):\n",
    "            if pro[y]<pro[y+1]:\n",
    "                temp=pro[y]\n",
    "                pro[y]=pro[y+1]\n",
    "                pro[y+1]=temp                \n",
    "                temp=rn[y]\n",
    "                rn[y]=rn[y+1]\n",
    "                rn[y+1]=temp\n",
    "        if deli[x+1]>maxLs:\n",
    "            maxLs=deli[x+1]\n",
    "    print('->',pro,'->',rn)\n",
    "    gantt=[0 for x in range(maxLs+1)]\n",
    "    \n",
    "    jobassigned=[]\n",
    "    jobat=[]\n",
    "    for x in range(lenLs):\n",
    "        fit=deli[rn[x]]\n",
    "        while(fit!=0):\n",
    "            if gantt[fit]==0:\n",
    "                gantt[fit]=1\n",
    "                jobassigned.append(jobs[rn[x]])\n",
    "                jobat.append(fit)\n",
    "                break\n",
    "            else:\n",
    "                fit=fit-1\n",
    "        if fit==0:\n",
    "            print(\"dumped \",jobs[rn[x]])\n",
    "    for x,y in zip(jobassigned,jobat):\n",
    "        print(x,\"\\t\\t--->\\t\",y \n",
    "jobsh([\"python\",\"java\",\"c++\",\"php\",\"javascript\"],[7,2,3,2,4],[200,180,190,300,120]) "
   ]
  },
  {
   "cell_type": "raw",
   "id": "513ce1b7",
   "metadata": {},
   "source": [
    "String checker"
   ]
  },
  {
   "cell_type": "code",
   "execution_count": 19,
   "id": "3b843f79",
   "metadata": {},
   "outputs": [
    {
     "name": "stdout",
     "output_type": "stream",
     "text": [
      "True\n"
     ]
    }
   ],
   "source": [
    "def re(i,j,str1,str2,l1,l2):\n",
    "    if i==l1:\n",
    "        return True\n",
    "    if j==l2:\n",
    "        return False\n",
    "    if str1[i]==str2[j]:\n",
    "        return re(i+1,j+1,str1,str2,l1,l2)\n",
    "    else:\n",
    "        i=0\n",
    "        return re(i,j+1,str1,str2,l1,l2)\n",
    "    \n",
    "st=\"sath\"\n",
    "stt=\"sathwik\"\n",
    "print(re(0,0,st,stt,len(st),len(stt)))"
   ]
  }
 ],
 "metadata": {
  "kernelspec": {
   "display_name": "Python 3 (ipykernel)",
   "language": "python",
   "name": "python3"
  },
  "language_info": {
   "codemirror_mode": {
    "name": "ipython",
    "version": 3
   },
   "file_extension": ".py",
   "mimetype": "text/x-python",
   "name": "python",
   "nbconvert_exporter": "python",
   "pygments_lexer": "ipython3",
   "version": "3.9.9"
  }
 },
 "nbformat": 4,
 "nbformat_minor": 5
}
