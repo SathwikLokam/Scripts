{
 "cells": [
  {
   "cell_type": "code",
   "execution_count": 6,
   "id": "6d5f9600",
   "metadata": {},
   "outputs": [],
   "source": [
    "li=[1,2,3,4,5]"
   ]
  },
  {
   "cell_type": "code",
   "execution_count": null,
   "id": "e0cca12f",
   "metadata": {},
   "outputs": [],
   "source": [
    "from pynput.keyboard import Key,Listener\n",
    "test=True\n",
    "def on(key):\n",
    "    print(key)\n",
    "    if key==Key.esc:\n",
    "        test=False\n",
    "with Listener(on_press=on,on_release=test) as listener:\n",
    "    listener.join()"
   ]
  },
  {
   "cell_type": "code",
   "execution_count": null,
   "id": "af40bf65",
   "metadata": {},
   "outputs": [],
   "source": []
  }
 ],
 "metadata": {
  "kernelspec": {
   "display_name": "Python 3 (ipykernel)",
   "language": "python",
   "name": "python3"
  },
  "language_info": {
   "codemirror_mode": {
    "name": "ipython",
    "version": 3
   },
   "file_extension": ".py",
   "mimetype": "text/x-python",
   "name": "python",
   "nbconvert_exporter": "python",
   "pygments_lexer": "ipython3",
   "version": "3.9.9"
  }
 },
 "nbformat": 4,
 "nbformat_minor": 5
}
