{
 "cells": [
  {
   "cell_type": "markdown",
   "id": "21c00281",
   "metadata": {},
   "source": [
    "-> Inbuilt functions\n",
    "______________________\n",
    "\n",
    "1. abs(x)    # absolute value of x\n",
    "2. pow(x, y) # value of x raised to y\n",
    "3. min(x1, x2,...) # smallest argument\n",
    "4. max(x1, x2,...) # largest argument\n",
    "5. bin(x) # binary equivalent\n",
    "6. oct(x) # octal equivalent\n",
    "7. hex(x) # hexadecimal equivalent\n"
   ]
  },
  {
   "cell_type": "markdown",
   "id": "003db530",
   "metadata": {},
   "source": [
    "1) abs(x) "
   ]
  },
  {
   "cell_type": "code",
   "execution_count": null,
   "id": "3cb238d4",
   "metadata": {},
   "outputs": [],
   "source": [
    "print(abs(-2))\n",
    "print(abs(2))"
   ]
  },
  {
   "cell_type": "markdown",
   "id": "f2074ba4",
   "metadata": {},
   "source": [
    "2) pow(x,y)"
   ]
  },
  {
   "cell_type": "code",
   "execution_count": null,
   "id": "85e114ef",
   "metadata": {},
   "outputs": [],
   "source": [
    "print(pow(2,3)) # 2^3 = 8"
   ]
  },
  {
   "cell_type": "markdown",
   "id": "8a9bdcb9",
   "metadata": {},
   "source": [
    "3) min()"
   ]
  },
  {
   "cell_type": "code",
   "execution_count": null,
   "id": "f32ff005",
   "metadata": {},
   "outputs": [],
   "source": [
    "minValue = min(1,2,3,46,6,5) # 1 is smallest value\n",
    "print(minValue)"
   ]
  },
  {
   "cell_type": "markdown",
   "id": "92ed22b9",
   "metadata": {},
   "source": [
    "4) max()"
   ]
  },
  {
   "cell_type": "code",
   "execution_count": null,
   "id": "ef7bf613",
   "metadata": {},
   "outputs": [],
   "source": [
    "maxValue=max(1,2,3,4,5,7,0) # max value is 7\n",
    "print(maxValue)"
   ]
  },
  {
   "cell_type": "markdown",
   "id": "362c4285",
   "metadata": {},
   "source": [
    "5) bin(x) - decimal to binary conversion"
   ]
  },
  {
   "cell_type": "code",
   "execution_count": null,
   "id": "c19837f3",
   "metadata": {},
   "outputs": [],
   "source": [
    "dec=10\n",
    "binary=bin(dec)\n",
    "print(\"binary value for 10 is \",binary) # output 0b1010 - first two characters '0b' represent that the number is in binary form"
   ]
  },
  {
   "cell_type": "markdown",
   "id": "3379f6c4",
   "metadata": {},
   "source": [
    "6) oct(x) - decimal to octal conversion"
   ]
  },
  {
   "cell_type": "code",
   "execution_count": null,
   "id": "b1fa1197",
   "metadata": {},
   "outputs": [],
   "source": [
    "dec=10\n",
    "octal=oct(dec)\n",
    "print(\"octal value for 10 is \",octal) # output 0o12 - first two characters '0o' represent that the number is in octal form"
   ]
  },
  {
   "cell_type": "markdown",
   "id": "87eeecbe",
   "metadata": {},
   "source": [
    "7) hex(x) - decimal to hexadecimal conversion"
   ]
  },
  {
   "cell_type": "code",
   "execution_count": null,
   "id": "e1bd22a4",
   "metadata": {},
   "outputs": [],
   "source": [
    "dec=10\n",
    "hexadecimal=hex(dec)\n",
    "print(\"hexadecimal value for 10 is \",hexadecimal) #output 0xa , here '0x' represent that the number is in hexadecimal form"
   ]
  },
  {
   "cell_type": "markdown",
   "id": "650ab671",
   "metadata": {},
   "source": [
    "> Sorting with relation "
   ]
  },
  {
   "cell_type": "code",
   "execution_count": null,
   "id": "2a9bc7d5",
   "metadata": {},
   "outputs": [],
   "source": [
    "\n",
    "def swap(li,x):\n",
    "    li[x],li[x+1]=li[x+1],li[x]\n",
    "\n",
    "def display(le,rn):\n",
    "    for x,y in zip(le,rn):\n",
    "        print(x,'\\t-->\\t',y)\n",
    "    print(\"-\"*20)\n",
    "\n",
    "li=list(map(int,input().split()))\n",
    "le=len(li)\n",
    "rn=list(range(le))\n",
    "display(li,rn)\n",
    "for x in range(le-1):\n",
    "    for y in range(le-1):\n",
    "        if li[y]>li[y+1]:\n",
    "            swap(li,y)\n",
    "            swap(rn,y)\n",
    "display(li,rn)\n"
   ]
  },
  {
   "cell_type": "code",
   "execution_count": null,
   "id": "9cfc8809",
   "metadata": {},
   "outputs": [],
   "source": [
    "li=[34,4,2,24,54,5,6,25,342,5,32]\n",
    "key=4\n",
    "li.sort()\n",
    "low=0\n",
    "high=len(li)-1\n",
    "mid=(low+high)//2\n",
    "while(low<high):\n",
    "    if li[mid]==key:\n",
    "        print(mid)\n",
    "        break\n",
    "    elif key>li[mid]:\n",
    "        low=mid+1\n",
    "    elif key<li[mid]:\n",
    "        high=mid-1\n",
    "    mid=(low+high)//2\n",
    "        "
   ]
  },
  {
   "cell_type": "code",
   "execution_count": null,
   "id": "bf2f5732",
   "metadata": {},
   "outputs": [],
   "source": [
    "li=[]\n",
    "def upd(n):\n",
    "    if n<len(li):\n",
    "        return li[n]\n",
    "    if n==0:\n",
    "        li.append(1)\n",
    "        return 1\n",
    "    else:\n",
    "        num=n*upd(n-1)\n",
    "        li.append(num)\n",
    "        return num    \n",
    "    \n",
    "for x in range(100000):\n",
    "    print(upd(x))"
   ]
  },
  {
   "cell_type": "code",
   "execution_count": null,
   "id": "9f51daf9",
   "metadata": {},
   "outputs": [],
   "source": [
    "li=[]\n",
    "def upd(n):\n",
    "    if n<len(li):\n",
    "        return li[n]\n",
    "    if n==0:\n",
    "        li.append(1)\n",
    "        return 1\n",
    "    else:\n",
    "        num=n*upd(n-1)\n",
    "        li.append(num)\n",
    "        return num\n",
    "for x in range(100000)[::-1]:\n",
    "    print(upd(x))"
   ]
  },
  {
   "cell_type": "code",
   "execution_count": null,
   "id": "e8c38d4c",
   "metadata": {},
   "outputs": [],
   "source": [
    "def fact(n):\n",
    "    if n==0:\n",
    "        return 1\n",
    "    else:\n",
    "        return n*fact(n-1)\n",
    "\n",
    "for x in range(100000):\n",
    "    print(fact(x))"
   ]
  },
  {
   "cell_type": "markdown",
   "id": "372f6835",
   "metadata": {},
   "source": [
    "divide the list"
   ]
  },
  {
   "cell_type": "code",
   "execution_count": null,
   "id": "c5fd1001",
   "metadata": {},
   "outputs": [],
   "source": [
    "def bi(l,low,high,key):\n",
    "    mid=low//high\n",
    "    if l[mid]==key:\n",
    "        return true \n",
    "    elif key<l[mid]:\n",
    "        high=mid-1\n",
    "    elif key>l[mid]:\n",
    "        low=mid+1\n",
    "    if low!=high:\n",
    "        return bi(l,low,high,key)\n",
    "    if low==high:\n",
    "        return False\n",
    "        \n",
    "\n",
    "print(bi([1,2,3,4,5,6,7,8],0,6,4))"
   ]
  },
  {
   "cell_type": "markdown",
   "id": "4785918b",
   "metadata": {},
   "source": [
    "nth minimum number in alist"
   ]
  },
  {
   "cell_type": "code",
   "execution_count": null,
   "id": "3309ad44",
   "metadata": {},
   "outputs": [],
   "source": [
    "li=list(map(int,input().split()))\n",
    "for x in range(len(li)):\n",
    "    ele=li[x]\n",
    "    index=x\n",
    "    for y in range(x+1,len(li)):\n",
    "        if ele<li[y]:\n",
    "            ele=li[y]\n",
    "            index=y\n",
    "    li[x],li[index]=li[index],li[x]\n",
    "print(li) "
   ]
  },
  {
   "cell_type": "markdown",
   "id": "260a6380",
   "metadata": {},
   "source": [
    "Arthimetic progressions"
   ]
  },
  {
   "cell_type": "code",
   "execution_count": 9,
   "id": "604fa2b3",
   "metadata": {},
   "outputs": [
    {
     "name": "stdout",
     "output_type": "stream",
     "text": [
      "1 5 9 13 17 21 25 29 33 37 "
     ]
    }
   ],
   "source": [
    "def ar(a,d,n):\n",
    "    if n!=0:\n",
    "        print(a,end=\" \")\n",
    "        n=n-1\n",
    "        ar((a+d),d,n)\n",
    "ar(1,4,10)"
   ]
  },
  {
   "cell_type": "code",
   "execution_count": 6,
   "id": "da63172a",
   "metadata": {},
   "outputs": [
    {
     "name": "stdout",
     "output_type": "stream",
     "text": [
      "8\n",
      "13\n"
     ]
    }
   ],
   "source": [
    "li=[0,0,1]\n",
    "def fibonacci(n):\n",
    "    if n<len(li):\n",
    "        return li[n]\n",
    "    num=fibonacci(n-1)+fibonacci(n-2)\n",
    "    li.append(num)\n",
    "    return num\n",
    "\n",
    "n = int(input())\n",
    "print(fibonacci(n))"
   ]
  },
  {
   "cell_type": "markdown",
   "id": "230d6e83",
   "metadata": {},
   "source": [
    "list group "
   ]
  },
  {
   "cell_type": "code",
   "execution_count": 5,
   "id": "b276e032",
   "metadata": {},
   "outputs": [
    {
     "name": "stdout",
     "output_type": "stream",
     "text": [
      "[10, 15, 15, 15, 18, 18, 1, 1, 14, 3, 16, 16, 16, 19, 13, 12, 7, 17, 9, 9]\n"
     ]
    }
   ],
   "source": [
    "from random import randrange\n",
    "li=[randrange(1,20) for i in range(20)]\n",
    "le=len(li)\n",
    "i=0\n",
    "ii=0\n",
    "while(i<le):\n",
    "    count=0\n",
    "    j=i\n",
    "    while(j<le):\n",
    "        if(li[i]==li[j]):\n",
    "            li[count+i],li[j]=li[j],li[count+i]\n",
    "            count+=1\n",
    "        j+=1\n",
    "    i=i+count\n",
    "print(li)"
   ]
  },
  {
   "cell_type": "markdown",
   "id": "46fa53c3",
   "metadata": {},
   "source": [
    "Perrmutations"
   ]
  },
  {
   "cell_type": "code",
   "execution_count": null,
   "id": "2c69e0a4",
   "metadata": {},
   "outputs": [],
   "source": []
  }
 ],
 "metadata": {
  "kernelspec": {
   "display_name": "Python 3 (ipykernel)",
   "language": "python",
   "name": "python3"
  },
  "language_info": {
   "codemirror_mode": {
    "name": "ipython",
    "version": 3
   },
   "file_extension": ".py",
   "mimetype": "text/x-python",
   "name": "python",
   "nbconvert_exporter": "python",
   "pygments_lexer": "ipython3",
   "version": "3.9.9"
  }
 },
 "nbformat": 4,
 "nbformat_minor": 5
}
